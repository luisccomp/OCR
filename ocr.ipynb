{
 "cells": [
  {
   "cell_type": "markdown",
   "source": [
    "# 0. Instalation\n",
    "\n",
    "To install EasyOCR we need to install it's dependencies (PyTorch) first before start coding..."
   ],
   "metadata": {}
  },
  {
   "cell_type": "code",
   "execution_count": null,
   "source": [
    "!pip install torch torchvision torchaudio\r\n",
    "!pip install easyocr"
   ],
   "outputs": [],
   "metadata": {
    "scrolled": false
   }
  },
  {
   "cell_type": "code",
   "execution_count": null,
   "source": [
    "import easyocr\r\n",
    "import cv2 as cv\r\n",
    "import matplotlib.pyplot as plt\r\n",
    "import numpy"
   ],
   "outputs": [],
   "metadata": {}
  },
  {
   "cell_type": "markdown",
   "source": [
    "# 1. Reading image and videos"
   ],
   "metadata": {}
  },
  {
   "cell_type": "code",
   "execution_count": null,
   "source": [
    "IMAGE_PATH = 'images/surf.jpeg'"
   ],
   "outputs": [],
   "metadata": {}
  },
  {
   "cell_type": "code",
   "execution_count": null,
   "source": [
    "reader = easyocr.Reader(['en'], gpu=False)\r\n",
    "result = reader.readtext(IMAGE_PATH)\r\n",
    "result"
   ],
   "outputs": [],
   "metadata": {}
  },
  {
   "cell_type": "markdown",
   "source": [
    "# 2. Draw results"
   ],
   "metadata": {}
  },
  {
   "cell_type": "code",
   "execution_count": null,
   "source": [
    "top_left = tuple(result[0][0][0])\r\n",
    "bottom_right = tuple(result[0][0][2])\r\n",
    "text = result[0][1]\r\n",
    "font = cv.FONT_HERSHEY_SIMPLEX"
   ],
   "outputs": [],
   "metadata": {}
  },
  {
   "cell_type": "code",
   "execution_count": null,
   "source": [
    "img = cv.imread(IMAGE_PATH)\r\n",
    "img = cv.cvtColor(img, cv.COLOR_BGR2RGB)\r\n",
    "img = cv.rectangle(img, top_left, bottom_right, (0, 255, 0), 5)\r\n",
    "img = cv.putText(img, text, top_left, font, .5, (255, 255, 255), 2, cv.LINE_AA)\r\n",
    "\r\n",
    "plt.imshow(img)\r\n",
    "plt.show()"
   ],
   "outputs": [],
   "metadata": {}
  },
  {
   "cell_type": "markdown",
   "source": [
    "# 3. Handling multiple lines"
   ],
   "metadata": {}
  },
  {
   "cell_type": "code",
   "execution_count": null,
   "source": [
    "IMAGE_PATH = 'images/out-of-service.jpg'"
   ],
   "outputs": [],
   "metadata": {}
  },
  {
   "cell_type": "code",
   "execution_count": null,
   "source": [
    "reader = easyocr.Reader(['en'], gpu=False)\r\n",
    "result = reader.readtext(IMAGE_PATH)\r\n",
    "result"
   ],
   "outputs": [],
   "metadata": {}
  },
  {
   "cell_type": "code",
   "execution_count": null,
   "source": [
    "img = cv.imread(IMAGE_PATH)\r\n",
    "img = cv.cvtColor(img, cv.COLOR_BGR2RGB)\r\n",
    "\r\n",
    "for detection in result:\r\n",
    "    top_left = tuple(int(val) for val in detection[0][0])\r\n",
    "    bottom_right = tuple(int(val) for val in detection[0][2])\r\n",
    "    text = detection[1]\r\n",
    "    font = cv.FONT_HERSHEY_SIMPLEX\r\n",
    "    img = cv.rectangle(img, top_left, bottom_right, (255, 0, 0), 5)\r\n",
    "    img = cv.putText(img, text, top_left, font, 2, (0, 0, 0), 2, cv.LINE_AA)\r\n",
    "\r\n",
    "plt.figure(figsize=(10, 10))\r\n",
    "plt.imshow(img)\r\n",
    "plt.show()"
   ],
   "outputs": [],
   "metadata": {}
  },
  {
   "cell_type": "code",
   "execution_count": null,
   "source": [
    "IMAGE_PATH = 'images/rg.png'"
   ],
   "outputs": [],
   "metadata": {}
  },
  {
   "cell_type": "code",
   "execution_count": null,
   "source": [
    "img = cv.imread(IMAGE_PATH)\r\n",
    "img = cv.cvtColor(img, cv.COLOR_BGR2RGB)\r\n",
    "\r\n",
    "reader = easyocr.Reader(['en', 'pt', 'la'], gpu=False)\r\n",
    "result = reader.readtext(IMAGE_PATH)\r\n",
    "\r\n",
    "for detection in result:\r\n",
    "    top_left = tuple(int(val) for val in detection[0][0])\r\n",
    "    bottom_right = tuple(int(val) for val in detection[0][2])\r\n",
    "    text = detection[1]\r\n",
    "    font = cv.FONT_HERSHEY_SIMPLEX\r\n",
    "    img = cv.rectangle(img, top_left, bottom_right, (255, 0, 0), 5)\r\n",
    "    img = cv.putText(img, text, top_left, font, 0.5, (0, 0, 0), 2, cv.LINE_AA)\r\n",
    "\r\n",
    "plt.figure(figsize=(10, 10))\r\n",
    "plt.imshow(img)\r\n",
    "plt.show()"
   ],
   "outputs": [],
   "metadata": {}
  },
  {
   "cell_type": "code",
   "execution_count": null,
   "source": [
    "result"
   ],
   "outputs": [],
   "metadata": {}
  },
  {
   "cell_type": "code",
   "execution_count": null,
   "source": [],
   "outputs": [],
   "metadata": {}
  }
 ],
 "metadata": {
  "kernelspec": {
   "name": "python3",
   "display_name": "Python 3.8.5 64-bit ('venv': venv)"
  },
  "language_info": {
   "codemirror_mode": {
    "name": "ipython",
    "version": 3
   },
   "file_extension": ".py",
   "mimetype": "text/x-python",
   "name": "python",
   "nbconvert_exporter": "python",
   "pygments_lexer": "ipython3",
   "version": "3.8.5"
  },
  "interpreter": {
   "hash": "c81c6f2742caafa532ffd3cc471e08c37e5c7f63b053413919b68f7ecea36401"
  }
 },
 "nbformat": 4,
 "nbformat_minor": 5
}